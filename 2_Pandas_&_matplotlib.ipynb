{
  "cells": [
    {
      "cell_type": "markdown",
      "metadata": {
        "id": "view-in-github",
        "colab_type": "text"
      },
      "source": [
        "<a href=\"https://colab.research.google.com/github/timmywang1203/1140417Pythin/blob/main/2_Pandas_%26_matplotlib.ipynb\" target=\"_parent\"><img src=\"https://colab.research.google.com/assets/colab-badge.svg\" alt=\"Open In Colab\"/></a>"
      ]
    },
    {
      "cell_type": "markdown",
      "source": [
        "## Python套件常用語法\n",
        "- import #引入整個模組\n",
        "- from ... import #引入模組中的特定函式或變數\n",
        "- as #套件別稱\n",
        "###### 註：程式碼中有使用套件的需求，就需引入套件，而每個套件在一份檔案中，只需引入1次。\n",
        "###### 如果套件未安裝，則須先install該套件，以下為colab的安裝指令\n",
        "```\n",
        "import sys\n",
        "!{sys.executable} -m pip install 套件名稱\n",
        "```"
      ],
      "metadata": {
        "id": "JSotWfEJQeCC"
      }
    },
    {
      "cell_type": "markdown",
      "source": [
        "## 引入pandas套件\n",
        "- colab內建，無須執行再次安裝\n",
        "- [pandas官網介紹](https://pandas.pydata.org/docs/index.html#)\n",
        "```\n",
        "import pandas as pd\n",
        "```\n"
      ],
      "metadata": {
        "id": "hHAF7yz_KBks"
      }
    },
    {
      "cell_type": "code",
      "execution_count": null,
      "metadata": {
        "id": "WYJu2dLeVyMX"
      },
      "outputs": [],
      "source": [
        "# 引入pandas，並取別稱為pd\n",
        "import pandas as pd  #主要用於處理有資料欄列的資料(DataFrame)"
      ]
    },
    {
      "cell_type": "markdown",
      "source": [
        "## pandas中常見資料結構\n",
        "- Series（類似Excel中的列資料）\n",
        "- DataFrame（類似Excel中的資料表）"
      ],
      "metadata": {
        "id": "wiDoXNREYWBj"
      }
    },
    {
      "cell_type": "markdown",
      "source": [
        "### 建立Series物件\n",
        "```\n",
        "pd.Series(內容值, index=索引值)  ##傳入的內容值可以是list、dict等資料結構。\n",
        "```\n"
      ],
      "metadata": {
        "id": "m3XJyC6VOnS_"
      }
    },
    {
      "cell_type": "code",
      "source": [
        "idx=[\"apple\",\"banana\",\"orange\",\"strawberry\",\"kiwifruit\"]\n",
        "data=[1,4,2,3,5]\n",
        "\n",
        "series=pd.Series(data,index=idx)\n",
        "print(series)"
      ],
      "metadata": {
        "id": "ef64xB3rPKwo"
      },
      "execution_count": null,
      "outputs": []
    },
    {
      "cell_type": "code",
      "source": [
        "##沒有指定index，會自動從0開始編列index\n",
        "series2=pd.Series(idx)\n",
        "print(series2)"
      ],
      "metadata": {
        "id": "o0hDrTLDPeGn"
      },
      "execution_count": null,
      "outputs": []
    },
    {
      "cell_type": "code",
      "source": [
        "## 用dict建立Series\n",
        "fruit={\"apple\":1,\"banana\":4,\"orange\":2,\"strawberry\":3,\"kiwifruit\" :5}\n",
        "series3=pd.Series(fruit)\n",
        "print(series3)"
      ],
      "metadata": {
        "id": "cA2Gx93sPg-h"
      },
      "execution_count": null,
      "outputs": []
    },
    {
      "cell_type": "markdown",
      "source": [
        "### 建立DataFrame物件\n",
        "```pd.DataFrame(資料, index=list或array型態, columns=list或array型態,...)```\n",
        "##### 上述的資料、index、columns都不一定需要，沒有資料，即宣告一空的DataFrame；沒有index或columns，python會從0開始命名。以下說明如何宣告pd.DataFrame："
      ],
      "metadata": {
        "id": "YhJtGumSYl81"
      }
    },
    {
      "cell_type": "markdown",
      "source": [
        "  1. Series\n",
        "  ```\n",
        "  pd.DataFrame([Series1, Series2,...])\n",
        "  ```"
      ],
      "metadata": {
        "id": "lOkIHN4qRMIy"
      }
    },
    {
      "cell_type": "code",
      "source": [
        "idx=[\"apple\",\"banana\",\"orange\",\"strawberry\",\"kiwifruit\"]\n",
        "data1=[1,4,2,3,5]\n",
        "data2=[5,8,6,2,4]\n",
        "series1=pd.Series(data1,index=idx)\n",
        "series2=pd.Series(data2,index=idx)\n",
        "print(series1)\n",
        "print(series2)\n",
        "df1=pd.DataFrame([series1,series2])\n",
        "print(df1)"
      ],
      "metadata": {
        "id": "J0s4CuapY0Nq"
      },
      "execution_count": null,
      "outputs": []
    },
    {
      "cell_type": "markdown",
      "source": [
        "  2. list\n",
        "  ```\n",
        "  pd.DataFrame(list, columns=[colname1 , ...])\n",
        "  ```"
      ],
      "metadata": {
        "id": "TOKqCC-jRUNu"
      }
    },
    {
      "cell_type": "code",
      "source": [
        "df3=pd.DataFrame([[1000,2546,103],[1001,4352,101],[1002,342,101]],columns=[\"id\",\"item_id\",\"customer_id\"])\n",
        "print(df3)"
      ],
      "metadata": {
        "id": "Z1hzOuFeZSyB"
      },
      "execution_count": null,
      "outputs": []
    },
    {
      "cell_type": "markdown",
      "source": [
        "  3. dict\n",
        "  ```\n",
        "  pd.DataFrame(dict)\n",
        "  ```"
      ],
      "metadata": {
        "id": "03jESDHGRQHE"
      }
    },
    {
      "cell_type": "code",
      "source": [
        "dict1={\"fruit\":[\"apple\",\"banana\",\"orange\",\"strawberry\",\"kiwifruit\"],\"time\":[1,4,5,6,3],\"year\":[2011,2018,2021,2018,2016]}\n",
        "df2=pd.DataFrame.from_dict(dict1)\n",
        "print(df2)"
      ],
      "metadata": {
        "id": "VE-drUYiZHme"
      },
      "execution_count": null,
      "outputs": []
    },
    {
      "cell_type": "code",
      "source": [],
      "metadata": {
        "id": "8aL9FMhDSAIS"
      },
      "execution_count": null,
      "outputs": []
    },
    {
      "cell_type": "markdown",
      "source": [
        "  4. 建立空的DataFrame\n",
        "  ```\n",
        "  pd.DataFrame()\n",
        "  ```"
      ],
      "metadata": {
        "id": "7TEdV5HARXJc"
      }
    },
    {
      "cell_type": "code",
      "source": [
        "df3=pd.DataFrame()\n",
        "print(df3)"
      ],
      "metadata": {
        "id": "lsIwoIBpZsZ0"
      },
      "execution_count": null,
      "outputs": []
    },
    {
      "cell_type": "markdown",
      "metadata": {
        "id": "r9f5F8dsVyMS"
      },
      "source": [
        "## 匯入及匯出資料集\n",
        "\n",
        "\n",
        "\n",
        "\n"
      ]
    },
    {
      "cell_type": "markdown",
      "source": [
        "### 使用檔案格式\n",
        "  - 1. Excel\n",
        "  ```\n",
        "  pd.read_excel(檔案位址,sheet_name=\"...\",header=0,...)  #匯入\n",
        "  df物件名稱.to_excel(檔案位址,sheet_name=\"...\",...)  #匯出\n",
        "  ```\n",
        "  - 2. csv\n",
        "  ```\n",
        "  pd.read_csv(檔案位址,header=0,...) #匯入\n",
        "  df物件名稱.to_csv(檔案位址,...)   #匯出\n",
        "  ```\n",
        "  - 3. txt\n",
        "  ```\n",
        "  pd.read_table(檔案位址,header=0,...)  #匯入\n",
        "  df物件名稱.to_table(檔案位址,...)    #匯出\n",
        "  ```\n",
        "  - 4. 其他(如：json、html、SQL..)"
      ],
      "metadata": {
        "id": "bIQCme4ZO0wZ"
      }
    },
    {
      "cell_type": "markdown",
      "source": [
        "### 在Google Colab讀取檔案方式"
      ],
      "metadata": {
        "id": "IKTNHgz0Q9Np"
      }
    },
    {
      "cell_type": "markdown",
      "source": [
        "#### 讀取資料集目錄內的資料\n",
        "##### 步驟（先將【airbnb_1.csv】下載到電腦中，再執行以下步驟）\n",
        "  - 1. 在左方找到「檔案（一個資料夾的符號，在{x}下方）」\n",
        "  - 2. 利用「上傳至工作階段儲存空間」將檔案傳至目前Python執行作業中。\n",
        "  - 3. 可以看到目前可以直接使用的資料檔，如果沒有看到利用「上傳至工作階段儲存空間」旁的「重新整理」功能即可。\n",
        "\n",
        "\n",
        "---\n",
        "##### **缺點：程式【重新連線】後都要重新匯入資料**\n",
        "\n"
      ],
      "metadata": {
        "id": "_BU48Cpib8F2"
      }
    },
    {
      "cell_type": "code",
      "execution_count": null,
      "metadata": {
        "scrolled": true,
        "id": "CeWejkhRVyMZ"
      },
      "outputs": [],
      "source": [
        "#讀入電腦內檔案\n",
        "df_CSV=pd.read_csv(\"airbnb_1.csv\",header=0)\n",
        "print(df_CSV.head())\n",
        "#df_CSV"
      ]
    },
    {
      "cell_type": "markdown",
      "source": [
        "#### 讀取雲端資料集目錄內的資料\n",
        "##### 步驟（先將【airbnb_1.txt】下載到電腦中，再執行以下步驟）\n",
        "  - 1. 在左方找到「檔案（一個資料夾的符號，在{x}下方）」\n",
        "  - 2. 利用「掛接雲端硬碟」將檔案從自己的Google雲端硬碟中上傳檔案至目前Python執行作業中。\n",
        "  - 3. 增加一段指令，如果已有這段指令，上述兩階段可省略。\n",
        "  ```\n",
        "  from google.colab import drive\n",
        "  drive.mount('/content/drive')\n",
        "  ```\n",
        "  - 4. 執行完上述指令後，可以看到新增一個drive的資料夾，如果沒有看到利用「上傳至工作階段儲存空間」旁的「重新整理」功能即可。"
      ],
      "metadata": {
        "id": "-WrFa7KJcfGs"
      }
    },
    {
      "cell_type": "code",
      "source": [
        "from google.colab import drive\n",
        "drive.mount('/content/drive')"
      ],
      "metadata": {
        "id": "koGEuuAVle90"
      },
      "execution_count": null,
      "outputs": []
    },
    {
      "cell_type": "code",
      "execution_count": null,
      "metadata": {
        "id": "SIcJPqY0VyMb"
      },
      "outputs": [],
      "source": [
        "# 以下檔案位址要改成你們自已的檔案位址\n",
        "df_TXT=pd.read_table(\"/content/drive/MyDrive/Colab Notebooks/11302經濟系程式融入課程/airbnb_1.txt\",header=0)\n",
        "print(df_TXT.tail(2))"
      ]
    },
    {
      "cell_type": "markdown",
      "source": [
        "#### 讀取網站上的檔案\n",
        "- [連結網址1](https://data.gov.tw/dataset/156375)\n",
        "- [連結網址2](https://data.gov.tw/dataset/155865)\n",
        "  - 針對部份網站的連結點選後可直接下載檔案之連結\n",
        "  - 點擊滑鼠右鍵後，點選『複製連結網址』，再將網址貼到檔案讀取指令的『檔案位址』中。\n",
        "\n"
      ],
      "metadata": {
        "id": "4RXrBR4TcrMy"
      }
    },
    {
      "cell_type": "code",
      "execution_count": null,
      "metadata": {
        "id": "tBoSUq6eVyMc"
      },
      "outputs": [],
      "source": [
        "df_Internet_1=pd.read_csv(r\"https://mopsfin.twse.com.tw/opendata/t187ap46_O_1.csv\",header=0)\n",
        "df_Internet_2=pd.read_csv(r\"https://mopsfin.twse.com.tw/opendata/t187ap46_L_1.csv\",header=0)\n",
        "print(df_Internet_1.head())\n",
        "df_Internet_2"
      ]
    },
    {
      "cell_type": "markdown",
      "source": [
        "\n",
        "#### 如何分享雲端資料集檔案並讀取\n",
        "##### 步驟（先將【airbnb_1.xlsx】放在你自己的Google 雲端硬碟中，再執行以下步驟）\n",
        "  - 取得分享資料連結網址  https://docs.google.com/spreadsheets/d/1cy9eF3KBPEr2rto8YUQPiXHnHZkplKht/edit?usp=share_link&ouid=106968640139790087718&rtpof=true&sd=true\n",
        "  - 找到/edit前面的字串\n",
        "  - 把以下網址中間的字，換成剛剛找到的字串 https://drive.google.com/uc?id=1cy9eF3KBPEr2rto8YUQPiXHnHZkplKht&export=download\n",
        "  ......\n",
        "\n",
        "##### 參考圖示\n",
        "![11102.png](data:image/png;base64,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)"
      ],
      "metadata": {
        "id": "wncdP-H_c3GF"
      }
    },
    {
      "cell_type": "code",
      "execution_count": null,
      "metadata": {
        "id": "wtZErtPLVyMb"
      },
      "outputs": [],
      "source": [
        "df_Share=pd.read_excel(\"https://drive.google.com/uc?id=1QiUx9MPfvKm6XKIOZ61CyIzIApPMhFLL&export=download\",header=0)\n",
        "print(df_Share)"
      ]
    },
    {
      "cell_type": "code",
      "source": [
        "## 讀入Excel檔中，其他工作表的資料\n",
        "df_Country=pd.read_excel(\"https://drive.google.com/uc?id=1QiUx9MPfvKm6XKIOZ61CyIzIApPMhFLL&export=download\",sheet_name=\"Country\")"
      ],
      "metadata": {
        "id": "lShxFhb6_5OE"
      },
      "execution_count": null,
      "outputs": []
    },
    {
      "cell_type": "markdown",
      "metadata": {
        "id": "xB6b3BGGVyMe"
      },
      "source": [
        "## 檢視匯入資料檔資訊\n",
        "\n",
        "* DataFrame.shape → 回傳列數與欄數\n",
        "\n",
        "* DataFrame.describe() → 回傳一些描述性統計，平均值、標準差、最小最大值..等\n",
        "\n",
        "* DataFrame.head() → 回傳前 5 筆資料內容，()內可自填想回傳從頭數來的「幾」筆資料\n",
        "\n",
        "* DataFrame.tail() → 回傳後 5 筆資料內容，()內可自填想回傳倒數「幾」筆資料\n",
        "\n",
        "* DataFrame.columns → 回傳所有欄位名稱\n",
        "\n",
        "* DataFrame.index → 回傳 index(索引值)有多少\n",
        "\n",
        "* DataFrame.info() → 回傳資料內容的資訊"
      ]
    },
    {
      "cell_type": "code",
      "source": [
        "df_CSV"
      ],
      "metadata": {
        "id": "mIQH6IpZ4H4v"
      },
      "execution_count": null,
      "outputs": []
    },
    {
      "cell_type": "code",
      "execution_count": null,
      "metadata": {
        "id": "t7rZwF0YVyMf"
      },
      "outputs": [],
      "source": [
        "df_CSV.shape"
      ]
    },
    {
      "cell_type": "code",
      "execution_count": null,
      "metadata": {
        "scrolled": false,
        "id": "2m04WwE0VyMg"
      },
      "outputs": [],
      "source": [
        "df_CSV.describe()"
      ]
    },
    {
      "cell_type": "code",
      "source": [
        "df_CSV.head(10)"
      ],
      "metadata": {
        "id": "_wdueokIZUFA"
      },
      "execution_count": null,
      "outputs": []
    },
    {
      "cell_type": "code",
      "source": [
        "df_CSV.tail(2)"
      ],
      "metadata": {
        "id": "jk90UcqVZdaN"
      },
      "execution_count": null,
      "outputs": []
    },
    {
      "cell_type": "code",
      "source": [
        "df_CSV.columns"
      ],
      "metadata": {
        "id": "gBiXm8eccU5T"
      },
      "execution_count": null,
      "outputs": []
    },
    {
      "cell_type": "code",
      "source": [
        "df_CSV.index"
      ],
      "metadata": {
        "id": "ZKKajlkMZl9c"
      },
      "execution_count": null,
      "outputs": []
    },
    {
      "cell_type": "code",
      "execution_count": null,
      "metadata": {
        "id": "Egjwi9SzVyMf"
      },
      "outputs": [],
      "source": [
        "df_CSV.info()"
      ]
    },
    {
      "cell_type": "markdown",
      "source": [
        "#### 修改index和column的名稱\n",
        "##### 方法一、全部列或欄要全部列出來（.index / .columns）\n",
        "\n",
        "```\n",
        "df物件名稱.index=[\"name1\",\"name2\",...]  ##資料集中有幾列，在[]內就要有幾列的index，缺一不可\n",
        "df物件名稱.columns=[\"column1\",\"column2\",...]  ##資料集中有幾欄，在[]內就要有幾個欄位名稱，缺一不可\n",
        "```\n",
        "##### 方法二、局部修改欄、列名稱（.rename(columns={...},index={...})）\n",
        "```\n",
        "df物件名稱=df物件名稱.rename(columns={\"舊欄名1\":\"新欄名1\",\"舊欄名2\":\"新欄名2\",...}, index={\"舊index1\":\"新index1\",\"舊index2\":\"新index2\",...})\n",
        "```\n",
        "##### 方法三、定義index（.set_index / .reset_index）\n",
        "```\n",
        "df物件名稱=df物件名稱.set_index(\"指定欄位名稱\")\n",
        "df物件名稱=df物件名稱.reset_index()  ##把原本的index轉成欄變數\n",
        "\n",
        "```"
      ],
      "metadata": {
        "id": "wuJTDBG9abQW"
      }
    },
    {
      "cell_type": "code",
      "execution_count": null,
      "metadata": {
        "id": "E2CHRth-VyMk"
      },
      "outputs": [],
      "source": [
        "df_CSV2=df_CSV.copy()\n",
        "df_CSV2.columns=['會員id','性別','年齡','會員帳號建立時間','會員帳號註冊管道','語言偏好','紀錄透過何種行銷管道加入會員','紀錄行銷管道提供者','成為註冊會員之app','紀錄加入會員使用之裝置','紀錄加入會員使用之瀏覽器','訂單編號','訂房時間','訂房地點(國家)','訂房金額']\n",
        "df_CSV2"
      ]
    },
    {
      "cell_type": "code",
      "execution_count": null,
      "metadata": {
        "id": "_TJximX_VyMk"
      },
      "outputs": [],
      "source": [
        "df_CSV.rename(columns={'signup_method': '會員帳號註冊管道','affiliate_channel': '紀錄透過何種行銷管道加入會員','affiliate_provider': '紀錄行銷管道提供者'})"
      ]
    },
    {
      "cell_type": "code",
      "source": [
        "df_CSV.set_index(\"id\")"
      ],
      "metadata": {
        "id": "aSpiT6SmjP_U"
      },
      "execution_count": null,
      "outputs": []
    },
    {
      "cell_type": "code",
      "source": [
        "#若index由2個或以上欄位組成,則用list []\n",
        "df_CSV.set_index([\"id\",\"gender\"],inplace=True)"
      ],
      "metadata": {
        "id": "W11tHuT_kHTP"
      },
      "execution_count": null,
      "outputs": []
    },
    {
      "cell_type": "code",
      "source": [
        "df_CSV.reset_index()"
      ],
      "metadata": {
        "id": "c90UiMaFjY_u"
      },
      "execution_count": null,
      "outputs": []
    },
    {
      "cell_type": "markdown",
      "source": [
        "### 判斷是否有遺失值\n",
        "\n",
        "* DataFrame.isnull() → 判斷是否有遺失值\n",
        "\n",
        "* DataFrame.isnull().any() → 迅速查看是否有遺失值(大筆數資料)\n",
        "\n",
        "* DataFrame.isnull().sum() → 查看每個欄位有幾個缺失值"
      ],
      "metadata": {
        "id": "_jVHveiEfWwv"
      }
    },
    {
      "cell_type": "code",
      "execution_count": null,
      "metadata": {
        "id": "if8yKOOEVyMl"
      },
      "outputs": [],
      "source": [
        "df_CSV.isnull()"
      ]
    },
    {
      "cell_type": "code",
      "execution_count": null,
      "metadata": {
        "id": "g-7PYM6mVyMm"
      },
      "outputs": [],
      "source": [
        "df_CSV.isnull().any()"
      ]
    },
    {
      "cell_type": "code",
      "execution_count": null,
      "metadata": {
        "id": "WUhX7-siVyMm"
      },
      "outputs": [],
      "source": [
        "df_CSV.isnull().sum()"
      ]
    },
    {
      "cell_type": "markdown",
      "source": [
        "### 刪除資料"
      ],
      "metadata": {
        "id": "k0nYpm1hgLCJ"
      }
    },
    {
      "cell_type": "markdown",
      "source": [
        "##### 刪除欄資料\n",
        "\n",
        "```\n",
        "DataFrame.drop(columns, axis=1)\n",
        "```"
      ],
      "metadata": {
        "id": "9CdiKtf3bMNk"
      }
    },
    {
      "cell_type": "markdown",
      "source": [
        "##### 刪除列資料\n",
        "```\n",
        "DataFrame.drop(列數,axis=0) ##其中的axis=0是預設，可省略\n",
        "```"
      ],
      "metadata": {
        "id": "wB_x7Wt_bP05"
      }
    },
    {
      "cell_type": "markdown",
      "source": [
        "##### 刪除遺失值\n",
        "```\n",
        "DataFrame.dropna(axis=1) ## 欄中如果有NaN的資料，該欄就會被刪除\n",
        "DataFrame.dropna(axis=0,how=\"any\") ## (預設)列中如果有NaN，該列就會被刪除，其中axis=0,how=\"any\"都是預設值\n",
        "DataFrame.dropna(axis=1,how=\"all\") ## how=\"all\"代表全部都是NaN，(該欄)才會被刪掉\n",
        "```"
      ],
      "metadata": {
        "id": "YLSA2R8RbnOO"
      }
    },
    {
      "cell_type": "code",
      "execution_count": null,
      "metadata": {
        "id": "R7jtbciwVyMn"
      },
      "outputs": [],
      "source": [
        "df_CSV.dropna()"
      ]
    },
    {
      "cell_type": "code",
      "execution_count": null,
      "metadata": {
        "id": "tZwGf4-6VyMn"
      },
      "outputs": [],
      "source": [
        "df_CSV.drop(1)   ##刪除第一列"
      ]
    },
    {
      "cell_type": "code",
      "execution_count": null,
      "metadata": {
        "scrolled": true,
        "id": "D68OVSsxVyMo"
      },
      "outputs": [],
      "source": [
        "df_CSV=df_CSV.drop(\"date_account_created\",axis=1)  ##刪除欄變數\n",
        "print(df_CSV)"
      ]
    },
    {
      "cell_type": "code",
      "source": [
        "df_CSV.info()"
      ],
      "metadata": {
        "id": "Dom_iFcP2j0c"
      },
      "execution_count": null,
      "outputs": []
    },
    {
      "cell_type": "markdown",
      "metadata": {
        "id": "Jf0LUwQJVyMg"
      },
      "source": [
        "### 資料轉型\n",
        "###### (int, float, 或str的轉型功能是針對單一個數字進行轉型，DataFrame是由大量資料組成，所以不適用int, float, 或str的轉型功能\n",
        "* pd.to_numeric(DataFrame[\"變數名稱\"],errors=\"coerce\")\n",
        "  - errors=\"coerce\"，無效解析將設置為NaN\n",
        "  - errors=\"raise\"，無效解析將引發異常\n",
        "  - errors=\"ignore\"，無效解析將返回輸入\n",
        "* DataFrame.to_string()"
      ]
    },
    {
      "cell_type": "code",
      "execution_count": null,
      "metadata": {
        "id": "vfptJVffVyMh"
      },
      "outputs": [],
      "source": [
        "df_CSV[\"order_no\"]=df_CSV[\"order_no\"].to_string()"
      ]
    },
    {
      "cell_type": "code",
      "source": [
        "df_CSV"
      ],
      "metadata": {
        "id": "bsfSnuuPrfFa"
      },
      "execution_count": null,
      "outputs": []
    },
    {
      "cell_type": "code",
      "execution_count": null,
      "metadata": {
        "id": "uMa2KTnXVyMh"
      },
      "outputs": [],
      "source": [
        "df_CSV.info()"
      ]
    },
    {
      "cell_type": "markdown",
      "metadata": {
        "id": "vaJgINjzVyMi"
      },
      "source": [
        "## 取出DataFrame當中的元素\n"
      ]
    },
    {
      "cell_type": "markdown",
      "source": [
        "#### 取得特定欄位資料\n",
        "  ```\n",
        "  df物件名稱[欄位名稱]\n",
        "  ```"
      ],
      "metadata": {
        "id": "2757--NGkjjk"
      }
    },
    {
      "cell_type": "code",
      "execution_count": null,
      "metadata": {
        "id": "ktI8u3jzVyMi"
      },
      "outputs": [],
      "source": [
        "df_CSV[\"signup_app\"]"
      ]
    },
    {
      "cell_type": "code",
      "source": [
        "df_CSV[[\"gender\",\"age\",\"signup_app\"]]"
      ],
      "metadata": {
        "id": "gKPJCta4e42Y"
      },
      "execution_count": null,
      "outputs": []
    },
    {
      "cell_type": "markdown",
      "source": [
        "### 取得特定欄及索引列的資料\n",
        "  ```\n",
        "df物件名稱[欄位名稱][索引]\n",
        "\n",
        "  ```"
      ],
      "metadata": {
        "id": "bHCHknf6ej-a"
      }
    },
    {
      "cell_type": "code",
      "source": [
        "df_CSV[\"price\"][1000:1005]"
      ],
      "metadata": {
        "id": "z7UDRTkRy2eC"
      },
      "execution_count": null,
      "outputs": []
    },
    {
      "cell_type": "code",
      "source": [
        "df_CSV[[\"gender\",\"age\",\"signup_app\"]][11:25]"
      ],
      "metadata": {
        "id": "gb3a68YDfQlt"
      },
      "execution_count": null,
      "outputs": []
    },
    {
      "cell_type": "markdown",
      "source": [
        "### 指定列、行的「名稱」---df.loc[]\n",
        "→ 常搭配資料篩選一起使用\n",
        "  ```\n",
        "  df物件名稱.loc[索引名稱的list, 欄位名稱的list]\n",
        "\n",
        "  ```\n"
      ],
      "metadata": {
        "id": "aikk98VLeewV"
      }
    },
    {
      "cell_type": "code",
      "execution_count": null,
      "metadata": {
        "scrolled": false,
        "id": "HZGVZ3c7VyMj"
      },
      "outputs": [],
      "source": [
        "df_CSV.loc[0:10,(\"gender\",\"age\")]"
      ]
    },
    {
      "cell_type": "markdown",
      "source": [
        "### 指定列、行的「編號」---df.iloc[]\n",
        "  ```\n",
        "  df物件名稱.iloc[索引編號的list, 欄位編號的list]\n"
      ],
      "metadata": {
        "id": "drVUiAwVehLW"
      }
    },
    {
      "cell_type": "code",
      "execution_count": null,
      "metadata": {
        "scrolled": false,
        "id": "3-kWsFtcVyMj"
      },
      "outputs": [],
      "source": [
        "df_CSV.iloc[0:5,[6,8]]"
      ]
    },
    {
      "cell_type": "markdown",
      "source": [
        "### 給定篩選條件\n",
        "\n",
        "#### 一個條件的篩選\n",
        "\n",
        "#### 兩個或兩個以上的條件篩選\n",
        "* 用 & 符號 代表 and\n",
        "* 用 | 符號 代表 or"
      ],
      "metadata": {
        "id": "J6GfUHLIkPnN"
      }
    },
    {
      "cell_type": "code",
      "execution_count": null,
      "metadata": {
        "id": "bpPFT7qdVyMz"
      },
      "outputs": [],
      "source": [
        "sel=df_CSV[\"gender\"]==\"Male\"\n",
        "\n",
        "df_male=df_CSV[sel]\n",
        "print(df_male.head())"
      ]
    },
    {
      "cell_type": "code",
      "execution_count": null,
      "metadata": {
        "scrolled": true,
        "id": "JkdqvZttVyM0"
      },
      "outputs": [],
      "source": [
        "sel2=(df_CSV[\"gender\"]==\"Male\") | (df_CSV[\"price\"]>=3000)\n",
        "\n",
        "df_male_2645=df_CSV[sel2]\n",
        "print(df_male_2645.head())"
      ]
    },
    {
      "cell_type": "code",
      "source": [
        "df_CSV.loc[sel2,[\"order_no\",\"age\",\"price\"]]"
      ],
      "metadata": {
        "id": "K2w5tHra49jt"
      },
      "execution_count": null,
      "outputs": []
    },
    {
      "cell_type": "markdown",
      "metadata": {
        "id": "q--7zqQsVyMo"
      },
      "source": [
        "## DataFrame的串接與合併"
      ]
    },
    {
      "cell_type": "markdown",
      "source": [
        "#### 新增「一列」資料-append() （※之前用.append，但是有更新要改用._append）\n",
        "```\n",
        "DataFrame._append(欲新增的列資料)\n",
        "```\n"
      ],
      "metadata": {
        "id": "hCvmI_b4hSgj"
      }
    },
    {
      "cell_type": "code",
      "execution_count": null,
      "metadata": {
        "id": "kZJ-xRobVyMp"
      },
      "outputs": [],
      "source": [
        "df_c1=pd.DataFrame({\"apple\":[45,48,65,68],\"orange\":[68,10,84,22],\"banana\":[37,88,71,89]})\n",
        "df_c2=pd.DataFrame({\"apple\":[38,13,73,19],\"orange\":[76,6,88,65],\"banana\":[17,2,77,72]})"
      ]
    },
    {
      "cell_type": "code",
      "execution_count": null,
      "metadata": {
        "id": "GqRT5mzbVyMp"
      },
      "outputs": [],
      "source": [
        "df_a1=pd.DataFrame({\"apple\":[55],\"orange\":[72],\"banana\":[69]})\n",
        "df_c1._append(df_a1)"
      ]
    },
    {
      "cell_type": "markdown",
      "source": [
        "#### 串接-concat()：將DataFrame照指定的方向串接起來。\n",
        "```\n",
        "pd.concat([dataframe1,dataframe2,...],axis=0) ##直向串接\n",
        "pd.concat([dataframe1,dataframe2,...],axis=1) ##橫向串接\n",
        "pd.concat([dataframe1,dataframe2,...],axis=1,keys=[\"df1\",\"df2\"]) ##橫向串接，增列上一層的欄位\n",
        "```"
      ],
      "metadata": {
        "id": "7IPWTu7BhaOJ"
      }
    },
    {
      "cell_type": "code",
      "execution_count": null,
      "metadata": {
        "id": "jOY7ec2uVyMq"
      },
      "outputs": [],
      "source": [
        "df_c3=pd.concat([df_c1,df_c2],axis=0)\n",
        "print(\"直向串接(concat)：\\n\",df_c3)"
      ]
    },
    {
      "cell_type": "code",
      "execution_count": null,
      "metadata": {
        "id": "SQs0ZMy7VyMq"
      },
      "outputs": [],
      "source": [
        "df_c4=pd.concat([df_c1,df_c2],axis=1)\n",
        "print(\"橫向串接(concat)：\\n\",df_c4)"
      ]
    },
    {
      "cell_type": "code",
      "execution_count": null,
      "metadata": {
        "id": "RY3c4z4nVyMr"
      },
      "outputs": [],
      "source": [
        "df_c4=pd.concat([df_c1,df_c2],axis=1,keys=[\"df_c1\",\"df_c2\"])\n",
        "print(\"橫向串接(concat)，增列上一層的欄位：\\n\",df_c4)"
      ]
    },
    {
      "cell_type": "markdown",
      "source": [
        "#### 用merge()做DataFrame的合併\n",
        "```\n",
        "pd.merge(左側df,右側df,on=KEY欄位, how=\"inner\") ##on用來指定共同具備的欄位；inner是用於交集，如果把inner改成outer，就是取聯集的概念\n",
        "```"
      ],
      "metadata": {
        "id": "M2gQMUJShkB1"
      }
    },
    {
      "cell_type": "code",
      "execution_count": null,
      "metadata": {
        "id": "Rs1iK-s9VyMr"
      },
      "outputs": [],
      "source": [
        "df_CSV=pd.merge(df_CSV,df_Country,on=[\"country_destination\",],how=\"outer\")"
      ]
    },
    {
      "cell_type": "markdown",
      "source": [
        "## 重新定義變數涵意"
      ],
      "metadata": {
        "id": "A0CsXdhik8_c"
      }
    },
    {
      "cell_type": "markdown",
      "metadata": {
        "id": "9G_PwAZsVyMr"
      },
      "source": [
        "#### for 迴圈及 if else 判斷式"
      ]
    },
    {
      "cell_type": "code",
      "execution_count": null,
      "metadata": {
        "id": "DlMTqMh8VyMs"
      },
      "outputs": [],
      "source": [
        "age_level=list()\n",
        "for i in df_CSV[\"age\"]:\n",
        "    if i<=25:\n",
        "        age_level.append(\"25歲(含)以下\")\n",
        "    elif i<=45:\n",
        "        age_level.append(\"26歲至45歲\")\n",
        "    elif i<=65:\n",
        "        age_level.append(\"46歲至65歲\")\n",
        "    else:\n",
        "        age_level.append(\"65歲以上\")\n",
        "df_CSV[\"年齡分層\"]=age_level\n",
        "print(df_CSV)"
      ]
    },
    {
      "cell_type": "markdown",
      "source": [
        "## 資料排序"
      ],
      "metadata": {
        "id": "eI2GuyW5iFU8"
      }
    },
    {
      "cell_type": "markdown",
      "source": [
        "#### 索引排序\n",
        "```\n",
        "DataFrame.sort_index()\n",
        "\n",
        "```"
      ],
      "metadata": {
        "id": "n50fDMb6ic7C"
      }
    },
    {
      "cell_type": "code",
      "source": [
        "df_CSV.sort_index()"
      ],
      "metadata": {
        "id": "HKyjJjI4jQj5"
      },
      "execution_count": null,
      "outputs": []
    },
    {
      "cell_type": "markdown",
      "source": [
        "#### 特定欄位排序\n",
        "```\n",
        "DataFrame.sort_values(by=\"欄位名稱\")\n",
        "\n",
        "```"
      ],
      "metadata": {
        "id": "YMJLT3K6i_k5"
      }
    },
    {
      "cell_type": "code",
      "source": [
        "df_CSV.sort_values(by=\"age\")"
      ],
      "metadata": {
        "id": "EJUOKm2djgO3"
      },
      "execution_count": null,
      "outputs": []
    },
    {
      "cell_type": "code",
      "source": [
        "df_CSV.sort_values(by=[\"age\",\"gender\"])"
      ],
      "metadata": {
        "id": "elaOOMykjsPh"
      },
      "execution_count": null,
      "outputs": []
    },
    {
      "cell_type": "markdown",
      "metadata": {
        "id": "xRiptedxVyMs"
      },
      "source": [
        "## 計算統計量\n",
        "\n",
        "* DataFrame.sum() → 加總\n",
        "* DataFrame.mean() → 平均數\n",
        "* DataFrame.max() → 最大值\n",
        "* DataFrame.min() → 最小值\n",
        "* DataFrame.median() → 中位數\n",
        "* DataFrame.std() → 標準差\n",
        "* DataFrame.var() → 變異數\n",
        "* Frame.mode() → 眾數\n",
        "* DataFrame.skew() → 偏態係數\n",
        "* DataFrame.kurt() → 峰態係數\n",
        "* DataFrame.cov() → 共變異數\n",
        "* DataFrame.corr() → 相關係數表\n",
        "* len(DataFrame) → 計算個數\n",
        "* df[\"漲跌價差\"].corr() → 顯示“漲跌價差”與其他欄位間的相關係數\n",
        "* df[\"漲跌價差\"].cov() → 顯示“漲跌價差”與其他欄位間的共變異數\n",
        "* df.value_counts()  計算次數分配表\n",
        "* DataFrame.groupby([\"漲跌\"]).sum() → 合併種類的名稱，並且顯示該名稱欄位分組總和\n",
        "\n"
      ]
    },
    {
      "cell_type": "code",
      "source": [
        "df_CSV_2=df_CSV.dropna()"
      ],
      "metadata": {
        "id": "UPTw6zhJG6b-"
      },
      "execution_count": null,
      "outputs": []
    },
    {
      "cell_type": "code",
      "execution_count": null,
      "metadata": {
        "id": "dk80bDQcVyMt"
      },
      "outputs": [],
      "source": [
        "df_CSV_2[\"age\"].mean()"
      ]
    },
    {
      "cell_type": "code",
      "execution_count": null,
      "metadata": {
        "id": "L77kktdTVyMu"
      },
      "outputs": [],
      "source": [
        "len(df_CSV_2[\"age\"])"
      ]
    },
    {
      "cell_type": "code",
      "execution_count": null,
      "metadata": {
        "id": "lf9ZbrfbVyMu"
      },
      "outputs": [],
      "source": [
        "df_CSV_1=df_CSV_2.loc[:,[\"age\",\"price\"]]\n",
        "df_CSV_1.cov()"
      ]
    },
    {
      "cell_type": "code",
      "source": [
        "df_CSV_1.corr()"
      ],
      "metadata": {
        "id": "dPa4nRFyuLJZ"
      },
      "execution_count": null,
      "outputs": []
    },
    {
      "cell_type": "markdown",
      "metadata": {
        "id": "LH3a12MtVyMv"
      },
      "source": [
        "## 資料分組\n",
        "#### groupby\n",
        "```\n",
        "DataFrame.groupby(by=[\"變數名稱1\",\"變數名稱2\"])\n",
        "DataFrame.groupby(by=[\"變數名稱1\",\"變數名稱2\"])[\"變數名稱\"].mean()   #mean也可以改sum()、count()...\n",
        "```\n",
        "#### pivot_table(列聯表)\n",
        "```\n",
        "pd.pivot_table(df_CSV, values, index,columns, aggfunc, ...)\n",
        "```\n",
        "* values → 要計算的數值\n",
        "* index → 列變數, 要用[]表示，可以放多個\n",
        "* columns → 欄變數, 要用[]表示，可以放多個\n",
        "###### 【Hint】index及columns可以擇一，或2個都放\n",
        "* aggfunc → 要計算的資訊\n",
        "  - count：計算個數\n",
        "  - mean：計算平均數\n",
        "  - std：計算標準差\n",
        "  - var：計算變異數\n",
        "  - median：計算中位數\n",
        "  - skew：計算偏態係數"
      ]
    },
    {
      "cell_type": "code",
      "execution_count": null,
      "metadata": {
        "id": "LYcyT16dVyMv"
      },
      "outputs": [],
      "source": [
        "df_CSV_2.groupby(['country']).sum()"
      ]
    },
    {
      "cell_type": "code",
      "execution_count": null,
      "metadata": {
        "id": "7A6OITEZVyMw"
      },
      "outputs": [],
      "source": [
        "df_CSV_2.groupby(['country'])[\"age\"].mean()"
      ]
    },
    {
      "cell_type": "code",
      "execution_count": null,
      "metadata": {
        "id": "70FmvFvnVyMw"
      },
      "outputs": [],
      "source": [
        "df_CSV_2.groupby(['country',\"gender\"])[\"price\"].sum()"
      ]
    },
    {
      "cell_type": "code",
      "execution_count": null,
      "metadata": {
        "id": "51KFMK1XVyMx"
      },
      "outputs": [],
      "source": [
        "df_CSV_2[\"country\"].value_counts()"
      ]
    },
    {
      "cell_type": "code",
      "execution_count": null,
      "metadata": {
        "id": "0m5-EGTEVyMx"
      },
      "outputs": [],
      "source": [
        "df_CSV_2[\"country\"].value_counts()/len(df_CSV_2)   ##計算相對次數或比例。"
      ]
    },
    {
      "cell_type": "code",
      "execution_count": null,
      "metadata": {
        "id": "xFx_D5GrVyMy"
      },
      "outputs": [],
      "source": [
        "pd.pivot_table(df_CSV_2, values='price', index=['country'], aggfunc='mean')"
      ]
    },
    {
      "cell_type": "code",
      "execution_count": null,
      "metadata": {
        "id": "N_VfF3UiVyMy"
      },
      "outputs": [],
      "source": [
        "pd.pivot_table(df_CSV_2, values='price', index=['年齡分層'],columns=['gender'], aggfunc='mean')"
      ]
    },
    {
      "cell_type": "markdown",
      "source": [
        "## 繪製統計圖表\n",
        "\n",
        "```\n",
        "import matplotlib\n",
        "import matplotlib.pyplot as plt\n",
        "```"
      ],
      "metadata": {
        "id": "86HhiU2Opr22"
      }
    },
    {
      "cell_type": "code",
      "source": [
        "import matplotlib\n",
        "import matplotlib.pyplot as plt"
      ],
      "metadata": {
        "id": "wtYFyAp7pxg3"
      },
      "execution_count": null,
      "outputs": []
    },
    {
      "cell_type": "markdown",
      "source": [
        "### 排除常見問題"
      ],
      "metadata": {
        "id": "cGzE-etFp6at"
      }
    },
    {
      "cell_type": "markdown",
      "source": [
        "#### 解決座標軸負數前的負號無法顯示問題\n",
        "```\n",
        "plt.rcParams['axes.unicode_minus'] = False  \n",
        "```"
      ],
      "metadata": {
        "id": "_lQEpQkdp7-N"
      }
    },
    {
      "cell_type": "code",
      "source": [
        "plt.rcParams[\"axes.unicode_minus\"] = False"
      ],
      "metadata": {
        "id": "FBuSv822qDJ_"
      },
      "execution_count": null,
      "outputs": []
    },
    {
      "cell_type": "markdown",
      "source": [
        "#### 解決中文字體無法顯示問題\n",
        "##### 先檢視主機內有哪些字型\n"
      ],
      "metadata": {
        "id": "A8P1TM_eqHQV"
      }
    },
    {
      "cell_type": "code",
      "source": [
        "import matplotlib.font_manager\n",
        "a = sorted([f.name for f in matplotlib.font_manager.fontManager.ttflist])\n",
        "for i in a:\n",
        "    print(i)"
      ],
      "metadata": {
        "id": "k34Sf0_6qSXj"
      },
      "execution_count": null,
      "outputs": []
    },
    {
      "cell_type": "markdown",
      "source": [
        "##### 解決方法一：如果知道有哪些字體是中文字型\n",
        "```\n",
        "## STEP1  確認字體庫內有哪些字體\n",
        "import matplotlib.font_manager\n",
        "a = sorted([f.name for f in matplotlib.font_manager.fontManager.ttflist])\n",
        "for i in a:\n",
        "    print(i)\n",
        "\n",
        "## STEP2  用 plt.rcParams['font.sans-serif'] 定義中文字體\n",
        "import matplotlib.pyplot as plt\n",
        "plt.rcParams['font.sans-serif'] = ['SimSun'] # 步驟一（替換sans-serif字型）\n",
        "```\n"
      ],
      "metadata": {
        "id": "SSbZOP7JqNFv"
      }
    },
    {
      "cell_type": "markdown",
      "source": [
        "##### 解決方法二：如果不知道哪些是中文字體（僅限附檔名為.ttf檔）\n",
        "\n",
        "###### 將中文字體新增至字體庫\n",
        "1. 如果有下載連結，利用網址直接下載字型檔\n",
        "\n",
        "```\n",
        "!wget -O taipei_sans_tc_beta.ttf https://drive.google.com/uc?id=1eGAsTN1HBpJAkeVM57_C7ccp7hbgSz3_&export=download\n",
        "```\n",
        "2. 如果沒有連結，可以將檔案匯入此文件中, 再匯入字體庫\n",
        "```\n",
        "matplotlib.font_manager.fontManager.addfont('taipei_sans_tc_beta.ttf')\n",
        "plt.rcParams['font.sans-serif'] = 'Taipei Sans TC Beta'\n",
        "```"
      ],
      "metadata": {
        "id": "HVkxDQvtqg07"
      }
    },
    {
      "cell_type": "code",
      "source": [
        "# 先下載台北黑體字型\n",
        "# https://drive.google.com/uc?id=1eGAsTN1HBpJAkeVM57_C7ccp7hbgSz3_&export=download\n",
        "!wget -O taipei_sans_tc_beta.ttf https://drive.google.com/uc?id=1eGAsTN1HBpJAkeVM57_C7ccp7hbgSz3_&export=download\n",
        "\n",
        "# 新增字體\n",
        "matplotlib.font_manager.fontManager.addfont('taipei_sans_tc_beta.ttf')\n"
      ],
      "metadata": {
        "id": "TNwVvyq0qlLi"
      },
      "execution_count": null,
      "outputs": []
    },
    {
      "cell_type": "code",
      "source": [
        "import matplotlib.pyplot as plt\n",
        "plt.rcParams['font.sans-serif'] = ['Taipei Sans TC Beta']"
      ],
      "metadata": {
        "id": "cOyKfzGBqXuT"
      },
      "execution_count": null,
      "outputs": []
    },
    {
      "cell_type": "markdown",
      "source": [
        "### 繪製統計圖表種類"
      ],
      "metadata": {
        "id": "D9wpf_i4qpK4"
      }
    },
    {
      "cell_type": "markdown",
      "source": [
        "#### 類別資料\n",
        "##### ( 類別變數要利用列聯表計算分組資訊或將資料分組，再進行繪圖。\n",
        "分組方式\n",
        "\n",
        "1.宣告成pd.Series資料型態\n",
        "```\n",
        "pd.Series({\"組別1\":數值1,\"組別2\":數值2,...}\n",
        "```\n",
        "2.Groupby\n",
        "```df.groupby(by=變數名稱)```\n",
        "\n",
        "常用圖形\n",
        "   - 折線圖：Table.plot()    ##kind的預設是line，即折線圖，所以沒有任何設定的話，就是折線圖\n",
        "   - 圓餅圖：Table.plot.pie()  /  Table.plot(kind=\"pie\", .....)\n",
        "   - 長條圖或橫條圖：Table.plot.bar() /  Table.plot(kind=\"bar\", .....)  /  Table.plot.barh()  /   Table.plot(kind=\"barh\", .....)\n",
        "\n",
        "如何將分組資訊宣告成pd.Series資料型態\n",
        ")\n",
        "```"
      ],
      "metadata": {
        "id": "K6DlylRVqxJt"
      }
    },
    {
      "cell_type": "markdown",
      "source": [
        "#### 數值資料\n",
        "##### ( 直接利用變數進行繪圖，不需先經處理。【前提】資料型態須為DataFrame)\n",
        "   - 折線圖：DataFrame.plot() / DataFrame.plot()\n",
        "   - 直方圖：DataFrame.hist()\n",
        "   - 盒鬚圖：DataFrame.boxplot()\n",
        "   - 莖葉圖 <---非使用pandas 繪圖工具\n",
        "   - 散佈圖：DataFrame.plot(x=\"變數1\",y=\"變數2\",style='o',...)   /   DataFrame.plot(kind=\"scatter\", x=\"變數1\", y=\"變數2\" ,...)"
      ],
      "metadata": {
        "id": "VwjTNA7Cq29L"
      }
    },
    {
      "cell_type": "markdown",
      "source": [
        "### 繪製統計圖表常用作圖參數\n",
        "#### (放在括號內的參數設定，適用pandas繪圖工具)\n",
        "   * x=    (橫座標軸變數)\n",
        "   * y=    (縱座標軸變數)\n",
        "   * kind=    (圖形類型)：line  /  bar  /  barh  /  hist  /  box   /   pie   /   scatter   /   ...\n",
        "   * subplot=    (如果有子圖，設定是否列出子圖)：False / True\n",
        "   * sharex=    (共用x軸，如果有兩個或以上的圖，垂直放在一起，只要顯示一個X座標軸)：False / True\n",
        "   * sharey=    (共用y軸，如果有兩個或以上的圖，水平放置一起，只要顯示一個y座標軸)：False / True\n",
        "   * figsize=    (作圖大小)：(寬, 高)\n",
        "   * title=    (標題)：\"標題名稱字串\"\n",
        "   * grid=    (格線)：False / True\n",
        "   * legend=    (是否顯示圖例)：True/False\n",
        "   * xticks=   (x軸刻度設定)：可以利用np.arange(起始值, 結束值, 間距)，或 清單\n",
        "   * yticks=   (y軸刻度設定)：可以利用np.arange(起始值, 結束值, 間距)，或 清單\n",
        "   * xlim=   (設定X軸的上下限，超過上下限的資料就不會顯示在圖形上)\n",
        "   * ylim=   (設定y軸的上下限，超過上下限的資料就不會顯示在圖形上)\n",
        "   * fontsize=    (字體大小)：整數數值\n",
        "   * stacked=    (堆疊)：False / True\n",
        "   * 設定顏色：\n",
        "         - c=\n",
        "         - color=\n",
        "         * 顏色設定可以查詢色碼表： https://www.toodoo.com/db/color.html\n",
        "   * style=    (設定折線圖的樣式)\n",
        "         - 線條樣式：  \n",
        "               *  \" - \"  => 實線(solid)   \n",
        "               *  \" -- \"  => 虛線(dased)\n",
        "               *  \" -. \"  => 短點相間線(dashdot)\n",
        "               *  \" ： \"  => 虛點線(dotted)\n",
        "         - 折線樣式：\n",
        "               1、2、3、4、o、*、+、-、v、^、..."
      ],
      "metadata": {
        "id": "b1u6921Wq5wM"
      }
    },
    {
      "cell_type": "code",
      "source": [
        "df_CSV_2[\"price\"].plot()"
      ],
      "metadata": {
        "id": "wrIhAfO18pUv"
      },
      "execution_count": null,
      "outputs": []
    },
    {
      "cell_type": "code",
      "source": [
        "tab=pd.pivot_table(df_CSV_2, values='price', index=['年齡分層'],columns=['gender'], aggfunc='mean')\n",
        "tab"
      ],
      "metadata": {
        "id": "7M_if-mirJ95"
      },
      "execution_count": null,
      "outputs": []
    },
    {
      "cell_type": "code",
      "source": [
        "tab.plot(title=\"折線圖\")"
      ],
      "metadata": {
        "id": "In-AHdvS8UxI"
      },
      "execution_count": null,
      "outputs": []
    },
    {
      "cell_type": "code",
      "source": [
        "tab.plot(y=\"Female\")"
      ],
      "metadata": {
        "id": "v2THBqd87JQv"
      },
      "execution_count": null,
      "outputs": []
    },
    {
      "cell_type": "code",
      "source": [
        "tab2=pd.pivot_table(df_CSV_2, values='age', index=['country'],columns=['gender'], aggfunc='count')\n",
        "tab2"
      ],
      "metadata": {
        "id": "5adSKOvN9NsP"
      },
      "execution_count": null,
      "outputs": []
    },
    {
      "cell_type": "code",
      "source": [
        "tab2.plot.bar(stacked=False,legend=True)"
      ],
      "metadata": {
        "id": "w7-P40-b9aaf"
      },
      "execution_count": null,
      "outputs": []
    },
    {
      "cell_type": "code",
      "source": [
        "tab2.plot.bar(stacked=True,legend=True)"
      ],
      "metadata": {
        "id": "m67uhPro9kY3"
      },
      "execution_count": null,
      "outputs": []
    },
    {
      "cell_type": "code",
      "source": [
        "tab3=pd.pivot_table(df_CSV_2, values='price', index=['country'], aggfunc='count')\n",
        "tab3=tab3.rename(columns={\"price\":\"time\"})\n",
        "tab3"
      ],
      "metadata": {
        "id": "L64_ioPQ-Bix"
      },
      "execution_count": null,
      "outputs": []
    },
    {
      "cell_type": "code",
      "source": [
        "tab3.plot.pie(y=\"time\",title=\"圓餅圖\",legend=False)"
      ],
      "metadata": {
        "id": "5IclP_Ve98pL"
      },
      "execution_count": null,
      "outputs": []
    },
    {
      "cell_type": "code",
      "source": [
        "tab4=pd.pivot_table(df_CSV_2, values='price', index=['country'], aggfunc='mean')\n",
        "tab4"
      ],
      "metadata": {
        "id": "9l2cX7dC_MRH"
      },
      "execution_count": null,
      "outputs": []
    },
    {
      "cell_type": "code",
      "source": [
        "tab4.plot(kind=\"bar\",grid=True)\n",
        "tab4.plot.bar(subplots=True)"
      ],
      "metadata": {
        "id": "9dEHDQir_I12"
      },
      "execution_count": null,
      "outputs": []
    },
    {
      "cell_type": "code",
      "source": [
        "df_CSV_2.hist(sharey=True,bins=6,color=(\"#484891\"),grid=False)"
      ],
      "metadata": {
        "id": "ejKfKS0Y_9TC"
      },
      "execution_count": null,
      "outputs": []
    },
    {
      "cell_type": "code",
      "source": [
        "df_CSV_2[\"price\"].hist(bins=10,grid=False)"
      ],
      "metadata": {
        "id": "ZRkm8YMZAKqq"
      },
      "execution_count": null,
      "outputs": []
    },
    {
      "cell_type": "code",
      "source": [
        "df_CSV_2.boxplot(figsize=(10,10),fontsize=20)"
      ],
      "metadata": {
        "id": "GBw70vubAUdm"
      },
      "execution_count": null,
      "outputs": []
    },
    {
      "cell_type": "code",
      "source": [
        "df_CSV_2.boxplot(column=\"age\")"
      ],
      "metadata": {
        "id": "MI5JWZ5TAv8s"
      },
      "execution_count": null,
      "outputs": []
    },
    {
      "cell_type": "code",
      "source": [
        "df_CSV_2.plot(kind=\"scatter\",x=\"price\",y=\"age\",c=\"#46A3FF\")"
      ],
      "metadata": {
        "id": "5Q3phcD2BErY"
      },
      "execution_count": null,
      "outputs": []
    },
    {
      "cell_type": "code",
      "source": [
        "pd.plotting.scatter_matrix(df_CSV_2,figsize=(10,10))"
      ],
      "metadata": {
        "id": "uHXETar9BUhB"
      },
      "execution_count": null,
      "outputs": []
    },
    {
      "cell_type": "markdown",
      "source": [
        "### 其他\n",
        "##### 莖葉圖(Stem-and-Leaf display)\n",
        "\n",
        "###### 莖葉圖套件安裝\n",
        "* 要import stemgraphic 這個package(函式庫)--這個Package通常要在命令提示字元(cmd)內先安裝stemgraphic這個套件，才能在指令內呼叫，不然會有錯誤訊息。\n",
        "\n",
        "* 利用以下指令在jupyter notebook的環境內執行安裝stemgraphic這個套件"
      ],
      "metadata": {
        "id": "lY1U5KLmBrAa"
      }
    },
    {
      "cell_type": "code",
      "source": [
        "import sys\n",
        "!{sys.executable} -m pip install stemgraphic"
      ],
      "metadata": {
        "id": "-OtyAcdTB8WJ"
      },
      "execution_count": null,
      "outputs": []
    },
    {
      "cell_type": "markdown",
      "source": [
        "###### 莖葉圖繪製\n",
        "* 常用的調整參數\n",
        "      - scale：調整莖的單位，10000代表莖的單位為萬\n",
        "      - asc：預設為True，指降冪；如果要升冪排列的話，要改為False)\n",
        "* 圖形解讀：\n",
        "      - 第一欄代表累計個數，第二欄代表莖，第三欄代表葉"
      ],
      "metadata": {
        "id": "1y8VIxYgCJBc"
      }
    },
    {
      "cell_type": "code",
      "source": [
        "import stemgraphic\n",
        "fig, ax = stemgraphic.stem_graphic(df_CSV_2[\"age\"],scale=10,asc=False)\n",
        "ax.set_title(\"Stem-and_Leaf display\")"
      ],
      "metadata": {
        "id": "6w2PV7eJCYwk"
      },
      "execution_count": null,
      "outputs": []
    },
    {
      "cell_type": "markdown",
      "metadata": {
        "id": "ek62P9QvVyM1"
      },
      "source": [
        "## 將結果匯出成excel檔或csv檔\n",
        "\n",
        "#### 將檔案匯出至Google雲端空間，如果與雲端連線還沒開啟，請先執行下列指令"
      ]
    },
    {
      "cell_type": "code",
      "source": [
        "##這個剛才在「讀取雲端資料集目錄內的資料」時已經宣告過了，所以在執行下方第一行存檔指令時，可以不用再報行1次\n",
        "\n",
        "#from google.colab import drive\n",
        "#drive.mount('/content/drive')"
      ],
      "metadata": {
        "id": "u6jbbRoiEVb5"
      },
      "execution_count": null,
      "outputs": []
    },
    {
      "cell_type": "code",
      "execution_count": null,
      "metadata": {
        "id": "YQzRZ6K1VyM1"
      },
      "outputs": [],
      "source": [
        "sel.to_excel(\"/content/drive/MyDrive/Colab Notebooks/11202經濟系程式融入課程/male.xlsx\",index=False)\n",
        "sel.to_csv(\"male.csv\",sep=\",\",encoding = \"utf-8\")"
      ]
    }
  ],
  "metadata": {
    "kernelspec": {
      "display_name": "Python 3",
      "name": "python3"
    },
    "language_info": {
      "codemirror_mode": {
        "name": "ipython",
        "version": 3
      },
      "file_extension": ".py",
      "mimetype": "text/x-python",
      "name": "python",
      "nbconvert_exporter": "python",
      "pygments_lexer": "ipython3",
      "version": "3.9.7"
    },
    "colab": {
      "provenance": [],
      "private_outputs": true,
      "gpuType": "T4",
      "toc_visible": true,
      "include_colab_link": true
    },
    "accelerator": "GPU"
  },
  "nbformat": 4,
  "nbformat_minor": 0
}